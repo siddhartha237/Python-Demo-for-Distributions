{
  "cells": [
    {
      "cell_type": "code",
      "execution_count": null,
      "metadata": {
        "id": "KMMn_b6zB0hd"
      },
      "outputs": [],
      "source": [
        "import scipy\n",
        "import numpy as np"
      ]
    },
    {
      "cell_type": "markdown",
      "metadata": {
        "id": "YNS3tyytSV8C"
      },
      "source": [
        "## **Binomial Distribution**"
      ]
    },
    {
      "cell_type": "code",
      "execution_count": null,
      "metadata": {
        "id": "xVf5wBmACy6C"
      },
      "outputs": [],
      "source": [
        "from scipy.stats import binom"
      ]
    },
    {
      "cell_type": "markdown",
      "metadata": {
        "id": "-18AqlydFhdk"
      },
      "source": [
        "![binpdf.gif](data:image/gif;base64,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)"
      ]
    },
    {
      "cell_type": "markdown",
      "metadata": {
        "id": "7n7v-FixF7JN"
      },
      "source": [
        "\n",
        " **A survey found that 65% of all financial consumers were very satisfied with their primary financial institution. Suppose that 25 financial consumers are sampled and if survey result still holds true today, what is the probability that exactly 19 are very satisfied with their primary financial institution?**"
      ]
    },
    {
      "cell_type": "code",
      "execution_count": null,
      "metadata": {
        "colab": {
          "base_uri": "https://localhost:8080/"
        },
        "id": "pVtus79-Gs5E",
        "outputId": "e7dca06d-8ed1-4b63-91de-486772936093"
      },
      "outputs": [
        {
          "output_type": "stream",
          "name": "stdout",
          "text": [
            "0.090777998593228\n"
          ]
        }
      ],
      "source": [
        "print(binom.pmf(k=19, n=25, p=0.65))"
      ]
    },
    {
      "cell_type": "markdown",
      "metadata": {
        "id": "JvI9S6FZHJuM"
      },
      "source": [
        "So, the probability that exactly 19 are very satisfied with their primary financial institution is 0.09."
      ]
    },
    {
      "cell_type": "markdown",
      "metadata": {
        "id": "tGwP-4QyHq7f"
      },
      "source": [
        "**According to the U. S. Census Bureau, approximately $6 \\%$ of all workers in Jackson, Mississippi, are unemployed. In conducting a random telephone survey in Jackson, what is the probability of getting two or fewer unemployed workers in a sample of 20?**"
      ]
    },
    {
      "cell_type": "code",
      "execution_count": null,
      "metadata": {
        "colab": {
          "base_uri": "https://localhost:8080/"
        },
        "id": "6AsbkfGwHb6Y",
        "outputId": "77496715-d3e3-478d-e4d9-c589563cd717"
      },
      "outputs": [
        {
          "output_type": "execute_result",
          "data": {
            "text/plain": [
              "0.8850275957378549"
            ]
          },
          "metadata": {},
          "execution_count": 4
        }
      ],
      "source": [
        "binom.cdf(2,20,0.06)"
      ]
    },
    {
      "cell_type": "markdown",
      "metadata": {
        "id": "Cc-9ubVyIzYI"
      },
      "source": [
        "**Solve the binomial probability for n=20, p=40% and x=10.**"
      ]
    },
    {
      "cell_type": "code",
      "execution_count": null,
      "metadata": {
        "colab": {
          "base_uri": "https://localhost:8080/"
        },
        "id": "JTx-76fdJDOm",
        "outputId": "0889bbbd-8796-4b9c-d7a8-025b45059ab3"
      },
      "outputs": [
        {
          "output_type": "stream",
          "name": "stdout",
          "text": [
            "0.11714155053639005\n"
          ]
        }
      ],
      "source": [
        "print(binom.pmf(k=10,n=20,p=0.4))"
      ]
    },
    {
      "cell_type": "markdown",
      "metadata": {
        "id": "v2_Hb9LpJYtY"
      },
      "source": [
        "## **Poisson Distribution**"
      ]
    },
    {
      "cell_type": "code",
      "execution_count": null,
      "metadata": {
        "id": "FuwRdQQGJfzR"
      },
      "outputs": [],
      "source": [
        "from scipy.stats import poisson"
      ]
    },
    {
      "cell_type": "code",
      "execution_count": null,
      "metadata": {
        "colab": {
          "base_uri": "https://localhost:8080/"
        },
        "id": "JEOmxFVNJnl4",
        "outputId": "e494dea3-ee28-4dc7-ddfa-4018b20bdefe"
      },
      "outputs": [
        {
          "output_type": "execute_result",
          "data": {
            "text/plain": [
              "0.18044704431548356"
            ]
          },
          "metadata": {},
          "execution_count": 7
        }
      ],
      "source": [
        "poisson.pmf(3,2) # 3=x, mean = 2"
      ]
    },
    {
      "cell_type": "markdown",
      "metadata": {
        "id": "vF87I_hvL4fo"
      },
      "source": [
        "**Suppose bank customers arrive randomly on weekday afternoons at an average of 3.2 customers every 4 minutes. What is the probability of exactly 5 customers arriving in a 4-minute interval on a weekday afternoon?**"
      ]
    },
    {
      "cell_type": "code",
      "execution_count": null,
      "metadata": {
        "colab": {
          "base_uri": "https://localhost:8080/"
        },
        "id": "JOXxRJ29MtkR",
        "outputId": "6cdd2bc3-2f7f-497c-d0ff-802f0800f3e8"
      },
      "outputs": [
        {
          "output_type": "stream",
          "name": "stdout",
          "text": [
            "0.11397938346351824\n"
          ]
        }
      ],
      "source": [
        "prob = poisson.pmf(5,3.2)\n",
        "print(prob)"
      ]
    },
    {
      "cell_type": "markdown",
      "metadata": {
        "id": "7zCc0AIwNUV8"
      },
      "source": [
        "**Bank customers arrive randomly on weekday afternoons at an average of 3.2 customers every 4 minutes. What is the probability of having more than 7 customers in a 4-minute interval on a weekday affernoon?**"
      ]
    },
    {
      "cell_type": "code",
      "execution_count": null,
      "metadata": {
        "id": "ePh_o6lTNi4Q"
      },
      "outputs": [],
      "source": [
        "prob = poisson.cdf(7,3.2)"
      ]
    },
    {
      "cell_type": "code",
      "execution_count": null,
      "metadata": {
        "colab": {
          "base_uri": "https://localhost:8080/"
        },
        "id": "78CYyiI4NuGD",
        "outputId": "b4eb8841-a6f1-452d-82f9-beedd5214102"
      },
      "outputs": [
        {
          "output_type": "execute_result",
          "data": {
            "text/plain": [
              "0.01682984174895752"
            ]
          },
          "metadata": {},
          "execution_count": 10
        }
      ],
      "source": [
        "prob_more_than_7 = 1 - prob\n",
        "prob_more_than_7"
      ]
    },
    {
      "cell_type": "markdown",
      "metadata": {
        "id": "p-ksAZWVPf6v"
      },
      "source": [
        "**A bank has an average random arrival rate of 3.2 customers every 4 minutes. What is the probabily of getting exactly 10 customers during an 8-minute interval?**"
      ]
    },
    {
      "cell_type": "code",
      "execution_count": null,
      "metadata": {
        "colab": {
          "base_uri": "https://localhost:8080/"
        },
        "id": "4jMq2q48Pm3j",
        "outputId": "8f94de13-507f-41f6-fdbc-fcb01b2373d2"
      },
      "outputs": [
        {
          "output_type": "execute_result",
          "data": {
            "text/plain": [
              "0.052790043854115495"
            ]
          },
          "metadata": {},
          "execution_count": 11
        }
      ],
      "source": [
        "poisson.pmf(10,2*3.2)"
      ]
    },
    {
      "cell_type": "markdown",
      "metadata": {
        "id": "U77q22LjP_mN"
      },
      "source": [
        "## **Uniform Distribution**"
      ]
    },
    {
      "cell_type": "markdown",
      "metadata": {
        "id": "qWqrzagbQOKo"
      },
      "source": [
        "**Suppose the amount of time it takes to assemble a plastic module ranges from 27 to 39 seconds and that assembly times are uniformly distributed. Describe the distribution. What is the probability that a given assembly will take between 30 and 35 seconds?**"
      ]
    },
    {
      "cell_type": "code",
      "execution_count": null,
      "metadata": {
        "colab": {
          "base_uri": "https://localhost:8080/"
        },
        "id": "ZJ5EZRTDQVCf",
        "outputId": "8793df07-50e7-4ff5-f3da-245f6521b9dc"
      },
      "outputs": [
        {
          "output_type": "execute_result",
          "data": {
            "text/plain": [
              "array([27, 28, 29, 30, 31, 32, 33, 34, 35, 36, 37, 38, 39])"
            ]
          },
          "metadata": {},
          "execution_count": 12
        }
      ],
      "source": [
        "U = np.arange(27,40,1)\n",
        "U"
      ]
    },
    {
      "cell_type": "code",
      "execution_count": null,
      "metadata": {
        "colab": {
          "base_uri": "https://localhost:8080/"
        },
        "id": "IRvj9y-GQhr7",
        "outputId": "a68db4c1-7432-4c9e-859d-c5724528ecee"
      },
      "outputs": [
        {
          "output_type": "execute_result",
          "data": {
            "text/plain": [
              "33.0"
            ]
          },
          "metadata": {},
          "execution_count": 13
        }
      ],
      "source": [
        "from scipy.stats import uniform\n",
        "uniform.mean(loc=27,scale=12)"
      ]
    },
    {
      "cell_type": "code",
      "execution_count": null,
      "metadata": {
        "colab": {
          "base_uri": "https://localhost:8080/"
        },
        "id": "27RfAK3dRR9S",
        "outputId": "fb71da08-fffe-49f5-a47d-6f6456772214"
      },
      "outputs": [
        {
          "output_type": "execute_result",
          "data": {
            "text/plain": [
              "array([0.25      , 0.33333333, 0.41666667, 0.5       , 0.58333333,\n",
              "       0.66666667])"
            ]
          },
          "metadata": {},
          "execution_count": 14
        }
      ],
      "source": [
        "uniform.cdf(np.arange(30,36,1),loc=27,scale=12)"
      ]
    },
    {
      "cell_type": "code",
      "execution_count": null,
      "metadata": {
        "colab": {
          "base_uri": "https://localhost:8080/"
        },
        "id": "wqIbqMTCR9bT",
        "outputId": "501ca4a4-ae1d-4a58-b9c9-9d0def578971"
      },
      "outputs": [
        {
          "output_type": "execute_result",
          "data": {
            "text/plain": [
              "0.41666667"
            ]
          },
          "metadata": {},
          "execution_count": 15
        }
      ],
      "source": [
        "Prob = 0.66666667 - 0.25\n",
        "Prob"
      ]
    },
    {
      "cell_type": "markdown",
      "metadata": {
        "id": "22cMaGvMS6-B"
      },
      "source": [
        "**According to the National Association of Insurance Commissioners, the average annual cost for automobile insurance in the United States in a recent year was \\$691. Suppose automobile insurance costs are uniformly distributed in the United States with a range of from $\\$ 200$ to $\\$ 1,182$. What is the standard deviation of this uniform distribution?**"
      ]
    },
    {
      "cell_type": "code",
      "execution_count": null,
      "metadata": {
        "colab": {
          "base_uri": "https://localhost:8080/"
        },
        "id": "wiQG98K1TVvb",
        "outputId": "85269d5b-0346-4ff1-8866-980371d56d83"
      },
      "outputs": [
        {
          "output_type": "execute_result",
          "data": {
            "text/plain": [
              "691.0"
            ]
          },
          "metadata": {},
          "execution_count": 16
        }
      ],
      "source": [
        "uniform.mean(loc=200,scale=982)"
      ]
    },
    {
      "cell_type": "code",
      "execution_count": null,
      "metadata": {
        "colab": {
          "base_uri": "https://localhost:8080/"
        },
        "id": "zLn8rs8CTk27",
        "outputId": "d435a119-8e6c-45f9-9ba8-75cb5c4bdff9"
      },
      "outputs": [
        {
          "output_type": "execute_result",
          "data": {
            "text/plain": [
              "283.4789821721062"
            ]
          },
          "metadata": {},
          "execution_count": 17
        }
      ],
      "source": [
        "uniform.std(loc=200,scale=982)"
      ]
    },
    {
      "cell_type": "markdown",
      "metadata": {
        "id": "7sehUTFJUIII"
      },
      "source": [
        "## **Normal Distribution**"
      ]
    },
    {
      "cell_type": "code",
      "execution_count": null,
      "metadata": {
        "id": "HcybTq74YbGi"
      },
      "outputs": [],
      "source": [
        "from scipy.stats import norm"
      ]
    },
    {
      "cell_type": "code",
      "execution_count": null,
      "metadata": {
        "id": "nJWFTpUvYh4b"
      },
      "outputs": [],
      "source": [
        "val, m, s = 68, 65.5, 2.5"
      ]
    },
    {
      "cell_type": "code",
      "execution_count": null,
      "metadata": {
        "colab": {
          "base_uri": "https://localhost:8080/"
        },
        "id": "1v8y5p-5Y0VC",
        "outputId": "382c3f2b-f19a-441e-c93b-888231162603"
      },
      "outputs": [
        {
          "output_type": "stream",
          "name": "stdout",
          "text": [
            "0.8413447460685429\n"
          ]
        }
      ],
      "source": [
        "print(norm.cdf(val,m,s))"
      ]
    },
    {
      "cell_type": "markdown",
      "metadata": {
        "id": "TjtxjVKUanLn"
      },
      "source": [
        "cdf(x>val)"
      ]
    },
    {
      "cell_type": "code",
      "execution_count": null,
      "metadata": {
        "colab": {
          "base_uri": "https://localhost:8080/"
        },
        "id": "L0TYwd3caWSB",
        "outputId": "c7deb0ff-37af-4e82-9a90-aaa0db3842a7"
      },
      "outputs": [
        {
          "output_type": "stream",
          "name": "stdout",
          "text": [
            "0.15865525393145707\n"
          ]
        }
      ],
      "source": [
        "print(1-norm.cdf(val,m,s))"
      ]
    },
    {
      "cell_type": "markdown",
      "metadata": {
        "id": "HBEtkD8Dapd8"
      },
      "source": [
        "cdf(val1<x<val2)"
      ]
    },
    {
      "cell_type": "code",
      "execution_count": null,
      "metadata": {
        "colab": {
          "base_uri": "https://localhost:8080/"
        },
        "id": "ChZO7Cdaavot",
        "outputId": "99cc2087-a3e9-4566-a895-4286073ed1bd"
      },
      "outputs": [
        {
          "output_type": "stream",
          "name": "stdout",
          "text": [
            "0.6826894921370859\n"
          ]
        }
      ],
      "source": [
        "print(norm.cdf(val,m,s)-(norm.cdf(63,m,s)))"
      ]
    },
    {
      "cell_type": "markdown",
      "metadata": {
        "id": "XTfgikGZnUVi"
      },
      "source": [
        "**What is the probability of obtaining a score greater than 700 on a GMAT test that has a mean of 494 and a standard deviation of 100 ? Assume GMAT scores are normally distributed.**"
      ]
    },
    {
      "cell_type": "markdown",
      "metadata": {
        "id": "zhpIjAiPnqKR"
      },
      "source": [
        "P(x>700|m=494 and s=100)=?"
      ]
    },
    {
      "cell_type": "code",
      "execution_count": null,
      "metadata": {
        "colab": {
          "base_uri": "https://localhost:8080/"
        },
        "id": "HRocgro0njlU",
        "outputId": "4310800f-d252-402e-8b96-5062a0a7a019"
      },
      "outputs": [
        {
          "output_type": "stream",
          "name": "stdout",
          "text": [
            "0.019699270409376912\n"
          ]
        }
      ],
      "source": [
        "print(1-norm.cdf(700,494,100))"
      ]
    },
    {
      "cell_type": "markdown",
      "metadata": {
        "id": "cGyOYekZo5sD"
      },
      "source": [
        "**For the same GMAT examination, what is the probability of randomly drawing a score that is 550 or less?**"
      ]
    },
    {
      "cell_type": "code",
      "execution_count": null,
      "metadata": {
        "colab": {
          "base_uri": "https://localhost:8080/"
        },
        "id": "ZUKJGPOdpCSP",
        "outputId": "308d912d-8f6c-413c-a8d8-5d405a70a863"
      },
      "outputs": [
        {
          "output_type": "stream",
          "name": "stdout",
          "text": [
            "0.712260281150973\n"
          ]
        }
      ],
      "source": [
        "print(norm.cdf(550,494,100))"
      ]
    },
    {
      "cell_type": "markdown",
      "source": [
        "**What is the probability of randomly obtaining a score between 300 and 600 on the GMAT exam?**"
      ],
      "metadata": {
        "id": "GBlyLLRpswX5"
      }
    },
    {
      "cell_type": "code",
      "source": [
        "print(norm.cdf(600,494,100)-norm.cdf(300,494,100))"
      ],
      "metadata": {
        "colab": {
          "base_uri": "https://localhost:8080/"
        },
        "id": "cEEqPOaaso0U",
        "outputId": "6bd78097-6f71-4b96-99c2-3cdcb631df4c"
      },
      "execution_count": null,
      "outputs": [
        {
          "output_type": "stream",
          "name": "stdout",
          "text": [
            "0.8292378553956377\n"
          ]
        }
      ]
    },
    {
      "cell_type": "markdown",
      "source": [
        "**What is the probability of getting a score between 350 and 450 on the same GMAT exam?**"
      ],
      "metadata": {
        "id": "6k4kHYUYtLJK"
      }
    },
    {
      "cell_type": "code",
      "source": [
        "print(norm.cdf(450,494,100)-norm.cdf(350,494,100))"
      ],
      "metadata": {
        "colab": {
          "base_uri": "https://localhost:8080/"
        },
        "id": "PXIJN_sqtN0q",
        "outputId": "32e9791c-9c24-4159-d381-084c3f6f00b8"
      },
      "execution_count": null,
      "outputs": [
        {
          "output_type": "stream",
          "name": "stdout",
          "text": [
            "0.2550348541262666\n"
          ]
        }
      ]
    },
    {
      "cell_type": "code",
      "source": [
        "norm.ppf(0.95)"
      ],
      "metadata": {
        "colab": {
          "base_uri": "https://localhost:8080/"
        },
        "id": "ovFpVzTMtbD5",
        "outputId": "5c4fccd4-3401-4ef8-ef1e-5d7dd218bc7d"
      },
      "execution_count": null,
      "outputs": [
        {
          "output_type": "execute_result",
          "data": {
            "text/plain": [
              "1.6448536269514722"
            ]
          },
          "metadata": {},
          "execution_count": 27
        }
      ]
    },
    {
      "cell_type": "code",
      "source": [
        "norm.ppf(1-0.6722)"
      ],
      "metadata": {
        "colab": {
          "base_uri": "https://localhost:8080/"
        },
        "id": "o_Kiww5yuAoW",
        "outputId": "33558a8c-d9c3-478a-a43c-9ce142c22982"
      },
      "execution_count": null,
      "outputs": [
        {
          "output_type": "execute_result",
          "data": {
            "text/plain": [
              "-0.44599618733015634"
            ]
          },
          "metadata": {},
          "execution_count": 28
        }
      ]
    },
    {
      "cell_type": "markdown",
      "source": [
        "## Hypergeometric Distribution"
      ],
      "metadata": {
        "id": "NiUadRWJvIQK"
      }
    },
    {
      "cell_type": "markdown",
      "source": [
        "**Suppose 18 major computer companies operate in the United States and that 12 are located in California's Silicon Valley. If three computer companies are selected randomly from the entire list, what is the probability that one or more of the selected companies are located in the Silicon Valley?**"
      ],
      "metadata": {
        "id": "APQEialRvPNF"
      }
    },
    {
      "cell_type": "code",
      "source": [
        "from scipy.stats import hypergeom"
      ],
      "metadata": {
        "id": "okpoNSXqvaqZ"
      },
      "execution_count": null,
      "outputs": []
    },
    {
      "cell_type": "code",
      "source": [
        "pval = hypergeom.cdf(0,18,3,12)\n",
        "1- pval"
      ],
      "metadata": {
        "colab": {
          "base_uri": "https://localhost:8080/"
        },
        "id": "n5E-06i9zC5A",
        "outputId": "47af925b-f35c-4b6e-f956-d45c29336e5f"
      },
      "execution_count": null,
      "outputs": [
        {
          "output_type": "execute_result",
          "data": {
            "text/plain": [
              "0.9754901960784313"
            ]
          },
          "metadata": {},
          "execution_count": 32
        }
      ]
    },
    {
      "cell_type": "code",
      "source": [
        "prob = hypergeom.sf(0,18,3,12) # hypergeom.sf(x-1,N,n,A), sf = 1- cdf\n",
        "prob"
      ],
      "metadata": {
        "colab": {
          "base_uri": "https://localhost:8080/"
        },
        "id": "91vVgamTvmdg",
        "outputId": "98141153-1072-453e-e193-1674d533e3a7"
      },
      "execution_count": null,
      "outputs": [
        {
          "output_type": "execute_result",
          "data": {
            "text/plain": [
              "0.9754901960784313"
            ]
          },
          "metadata": {},
          "execution_count": 30
        }
      ]
    },
    {
      "cell_type": "markdown",
      "source": [
        "**A western city has 18 police officers eligible for promotion. Eleven of the 18 are Hispanic. Suppose only five of the police officers are chosen for promotion. If the officers chosen for promotion had been selected by chance alone, what is the probability that one or fewer of the five promoted officers would have been Hispanic?**"
      ],
      "metadata": {
        "id": "_gHzn6QQyU5P"
      }
    },
    {
      "cell_type": "code",
      "source": [
        "pval = hypergeom.cdf(1,18,5,11)\n",
        "pval"
      ],
      "metadata": {
        "colab": {
          "base_uri": "https://localhost:8080/"
        },
        "id": "TxHO45VUybgK",
        "outputId": "1ee5b59e-f89d-4798-b61c-5f223e6ba867"
      },
      "execution_count": null,
      "outputs": [
        {
          "output_type": "execute_result",
          "data": {
            "text/plain": [
              "0.04738562091503268"
            ]
          },
          "metadata": {},
          "execution_count": 31
        }
      ]
    },
    {
      "cell_type": "markdown",
      "source": [
        "#Exponential Distribution"
      ],
      "metadata": {
        "id": "YCPZnNJjzkQQ"
      }
    },
    {
      "cell_type": "markdown",
      "source": [
        "**A manufacturing firm has been involved in statistical quality control for several years. As part of the production process. parts are randomly selected and tested. From the records of these tests, it has been established that a defective part occurs in a pattern that is Poisson distributed on the average of 1.38 defects every 20 minutes during production runs. Use this information to determine the probability that less than 15 minutes will elapse between any two defects?**"
      ],
      "metadata": {
        "id": "w-YOoodtzxJk"
      }
    },
    {
      "cell_type": "code",
      "source": [
        "mu1 = 1/1.38 # for 20 minutes\n",
        "mu1"
      ],
      "metadata": {
        "colab": {
          "base_uri": "https://localhost:8080/"
        },
        "id": "BbALAhLmz9tB",
        "outputId": "1f284dc5-d7dd-4497-8963-a6f925fab4a1"
      },
      "execution_count": null,
      "outputs": [
        {
          "output_type": "execute_result",
          "data": {
            "text/plain": [
              "0.7246376811594204"
            ]
          },
          "metadata": {},
          "execution_count": 33
        }
      ]
    },
    {
      "cell_type": "code",
      "source": [
        "from scipy.stats import expon\n",
        "expon.cdf(0.75,0,mu1)"
      ],
      "metadata": {
        "colab": {
          "base_uri": "https://localhost:8080/"
        },
        "id": "bAUsUOc91kD3",
        "outputId": "88afdda0-6a46-4562-9f4f-5801511992c5"
      },
      "execution_count": null,
      "outputs": [
        {
          "output_type": "execute_result",
          "data": {
            "text/plain": [
              "0.6447736190750485"
            ]
          },
          "metadata": {},
          "execution_count": 34
        }
      ]
    }
  ],
  "metadata": {
    "colab": {
      "provenance": []
    },
    "kernelspec": {
      "display_name": "Python 3",
      "name": "python3"
    },
    "language_info": {
      "name": "python"
    }
  },
  "nbformat": 4,
  "nbformat_minor": 0
}